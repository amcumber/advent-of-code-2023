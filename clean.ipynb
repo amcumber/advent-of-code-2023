{
 "cells": [
  {
   "cell_type": "code",
   "execution_count": 1,
   "metadata": {},
   "outputs": [],
   "source": [
    "from pathlib import Path\n"
   ]
  },
  {
   "cell_type": "code",
   "execution_count": 4,
   "metadata": {},
   "outputs": [],
   "source": [
    "class MyValueError(Exception):\n",
    "    \"\"\"Value Error\"\"\"\n",
    "\n",
    "\n",
    "def minus_root(root: Path, path: Path) -> Path:\n",
    "    if not all([part in path.parts for part in root.parts]):\n",
    "        raise MyValueError(\"Not part of path\")\n",
    "\n",
    "    rel_path = list(path.parts)\n",
    "    for part in root.parts:\n",
    "        if 0 != rel_path.index(part):\n",
    "            raise MyValueError(\"Incorrect index, aborting\")\n",
    "        rel_path.pop(0)\n",
    "    new_path = Path()\n",
    "    for part in rel_path:\n",
    "        new_path /= part\n",
    "    return new_path\n",
    "\n",
    "\n",
    "def get_new_root(path: Path, old_root: Path, new_root: Path) -> Path:\n",
    "    rel_file = minus_root(old_root, path)\n",
    "    return new_root / rel_file\n",
    "\n",
    "\n",
    "def replace_file(file: Path, old_root: Path, new_root: Path) -> Path:\n",
    "    new_file = get_new_root(file, old_root, new_root)\n",
    "    new_file.parent.mkdir(exist_ok=True, parents=True)\n",
    "    file.rename(new_file)"
   ]
  },
  {
   "cell_type": "code",
   "execution_count": null,
   "metadata": {},
   "outputs": [],
   "source": [
    "def main():\n",
    "    "
   ]
  }
 ],
 "metadata": {
  "kernelspec": {
   "display_name": ".env",
   "language": "python",
   "name": "python3"
  },
  "language_info": {
   "codemirror_mode": {
    "name": "ipython",
    "version": 3
   },
   "file_extension": ".py",
   "mimetype": "text/x-python",
   "name": "python",
   "nbconvert_exporter": "python",
   "pygments_lexer": "ipython3",
   "version": "3.12.1"
  }
 },
 "nbformat": 4,
 "nbformat_minor": 2
}
